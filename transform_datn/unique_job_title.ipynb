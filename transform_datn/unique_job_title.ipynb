{
 "cells": [
  {
   "cell_type": "code",
   "execution_count": 3,
   "metadata": {},
   "outputs": [
    {
     "name": "stdout",
     "output_type": "stream",
     "text": [
      "['Data Scientist' 'Data Analyst' 'Data Architect' 'Data Engineer'\n",
      " 'Statistics' 'Database Administrator' 'Business Analyst'\n",
      " 'Data and Analytics Manager' 'Machine Learning' 'Artificial Intelligence'\n",
      " 'Deep Learning' 'Business Intelligence Analyst'\n",
      " 'Data Visualization Expert' 'Data Quality Manager' 'Big Data Engineer'\n",
      " 'Data Warehousing' 'Technology Integration' 'IT Consultant'\n",
      " 'IT Systems Administrator' 'Cloud Architect' 'Technical Operations'\n",
      " 'Cloud Services Developer' 'Full Stack Developer'\n",
      " 'Information Security Analyst' 'Network Architect']\n"
     ]
    }
   ],
   "source": [
    "import csv\n",
    "import pandas as pd\n",
    "\n",
    "df = pd.read_csv('./JobsDataset.csv')\n",
    "\n",
    "print(df['Data Scientist'].unique())"
   ]
  },
  {
   "cell_type": "code",
   "execution_count": null,
   "metadata": {},
   "outputs": [],
   "source": [
    "Project and product management\n",
    "Help desk and customer support\n",
    "Security\n",
    "Software development\n",
    "DevOps\n",
    "cloud\n",
    "Business analyst and business intelligence\n",
    "Database administration\n",
    "Network and system administration\n",
    "Architecture\n",
    "Technology sales consultant\n"
   ]
  }
 ],
 "metadata": {
  "kernelspec": {
   "display_name": "Python 3",
   "language": "python",
   "name": "python3"
  },
  "language_info": {
   "codemirror_mode": {
    "name": "ipython",
    "version": 3
   },
   "file_extension": ".py",
   "mimetype": "text/x-python",
   "name": "python",
   "nbconvert_exporter": "python",
   "pygments_lexer": "ipython3",
   "version": "3.10.12"
  }
 },
 "nbformat": 4,
 "nbformat_minor": 2
}
