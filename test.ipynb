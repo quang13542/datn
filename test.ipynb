{
 "cells": [
  {
   "cell_type": "code",
   "execution_count": 1,
   "metadata": {},
   "outputs": [],
   "source": [
    "import pandas as pd"
   ]
  },
  {
   "cell_type": "code",
   "execution_count": 12,
   "metadata": {},
   "outputs": [],
   "source": [
    "df = pd.read_csv('load_datn/combined_source/2024_05_29_combined_data.csv')\n",
    "df = df.drop('new_col', axis=1)"
   ]
  },
  {
   "cell_type": "code",
   "execution_count": 13,
   "metadata": {},
   "outputs": [
    {
     "name": "stdout",
     "output_type": "stream",
     "text": [
      "Unnamed: 0                                              0\n",
      "url                                                     0\n",
      "source                                                  0\n",
      "crawl_date                                              0\n",
      "company_name                                            0\n",
      "company_position                                        0\n",
      "company_size                                          899\n",
      "job_detail_name                                         0\n",
      "job_detail_salary                                    1175\n",
      "job_detail_full_time                                    0\n",
      "job_detail_remote                                    2513\n",
      "job_detail_job_requirements                          2513\n",
      "job_detail_job_requirements_line                        0\n",
      "job_detail_year_of_exp                               2182\n",
      "job_detail_job_level                                 6800\n",
      "job_detail_salary_range                              1175\n",
      "job_detail_currency                                  7566\n",
      "job_detail_salary_range_max                          1175\n",
      "job_detail_salary_range_min                          1175\n",
      "job_detail_extracted_skill                              0\n",
      "job_detail_extracted_job_role                          64\n",
      "job_detail_hybrid                                    5567\n",
      "job_detail_detail_position                           6742\n",
      "job_detail_part_time                                 6742\n",
      "job_detail_year_exp_from_requirement                 7720\n",
      "job_detail_year_exp_from_requirement_and_year_exp    6742\n",
      "dtype: int64\n"
     ]
    }
   ],
   "source": [
    "null_counts = df.isnull().sum()\n",
    "\n",
    "print(null_counts)"
   ]
  },
  {
   "cell_type": "code",
   "execution_count": null,
   "metadata": {},
   "outputs": [],
   "source": []
  }
 ],
 "metadata": {
  "kernelspec": {
   "display_name": "venv",
   "language": "python",
   "name": "python3"
  },
  "language_info": {
   "codemirror_mode": {
    "name": "ipython",
    "version": 3
   },
   "file_extension": ".py",
   "mimetype": "text/x-python",
   "name": "python",
   "nbconvert_exporter": "python",
   "pygments_lexer": "ipython3",
   "version": "3.10.12"
  }
 },
 "nbformat": 4,
 "nbformat_minor": 2
}
